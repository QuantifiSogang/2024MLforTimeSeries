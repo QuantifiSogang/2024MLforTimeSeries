{
 "cells": [
  {
   "cell_type": "code",
   "id": "initial_id",
   "metadata": {
    "collapsed": true,
    "ExecuteTime": {
     "end_time": "2024-07-18T09:01:22.836586Z",
     "start_time": "2024-07-18T09:01:21.584587Z"
    }
   },
   "source": [
    "import yfinance as yf\n",
    "import numpy as np\n",
    "import pandas as pd\n",
    "import matplotlib.pyplot as plt\n",
    "import seaborn as sns\n",
    "import torch\n",
    "import torch.nn as nn\n",
    "import torch.nn.functional as F\n",
    "\n",
    "class AlphaRNNCell(nn.Module):\n",
    "    def __init__(self, input_size, hidden_size):\n",
    "        super(AlphaRNNCell, self).__init__()\n",
    "        self.input_size = input_size\n",
    "        self.hidden_size = hidden_size\n",
    "        \n",
    "        self.W_ih = nn.Parameter(torch.Tensor(hidden_size, input_size))\n",
    "        self.W_hh = nn.Parameter(torch.Tensor(hidden_size, hidden_size))\n",
    "        self.b_ih = nn.Parameter(torch.Tensor(hidden_size))\n",
    "        self.b_hh = nn.Parameter(torch.Tensor(hidden_size))\n",
    "        self.alpha = nn.Parameter(torch.Tensor(1))\n",
    "\n",
    "        self.reset_parameters()\n",
    "\n",
    "    def reset_parameters(self):\n",
    "        nn.init.kaiming_uniform_(self.W_ih, a=np.sqrt(5))\n",
    "        nn.init.kaiming_uniform_(self.W_hh, a=np.sqrt(5))\n",
    "        nn.init.zeros_(self.b_ih)\n",
    "        nn.init.zeros_(self.b_hh)\n",
    "        nn.init.constant_(self.alpha, 0.5)\n",
    "\n",
    "    def forward(self, input, hidden):\n",
    "        h_next = torch.sigmoid(self.alpha) * hidden + (1 - torch.sigmoid(self.alpha)) * torch.tanh(\n",
    "            F.linear(input, self.W_ih, self.b_ih) + F.linear(hidden, self.W_hh, self.b_hh)\n",
    "        )\n",
    "        return h_next\n",
    "\n",
    "class AlphaRNN(nn.Module):\n",
    "    def __init__(self, input_size, hidden_size, num_layers=1):\n",
    "        super(AlphaRNN, self).__init__()\n",
    "        self.hidden_size = hidden_size\n",
    "        self.num_layers = num_layers\n",
    "        self.cells = nn.ModuleList([AlphaRNNCell(input_size if i == 0 else hidden_size, hidden_size) for i in range(num_layers)])\n",
    "\n",
    "    def forward(self, input, hidden=None):\n",
    "        batch_size, seq_len, _ = input.size()\n",
    "        if hidden is None:\n",
    "            hidden = self.init_hidden(batch_size)\n",
    "\n",
    "        outputs = []\n",
    "        for t in range(seq_len):\n",
    "            x = input[:, t, :]\n",
    "            for i, cell in enumerate(self.cells):\n",
    "                hidden[i] = cell(x, hidden[i])\n",
    "                x = hidden[i]\n",
    "            outputs.append(x.unsqueeze(1))\n",
    "\n",
    "        return torch.cat(outputs, dim=1), hidden\n",
    "\n",
    "    def init_hidden(self, batch_size):\n",
    "        return [torch.zeros(batch_size, self.hidden_size, device=self.cells[0].W_ih.device) for _ in range(self.num_layers)]"
   ],
   "outputs": [],
   "execution_count": 2
  },
  {
   "metadata": {
    "ExecuteTime": {
     "end_time": "2024-07-18T09:01:24.238168Z",
     "start_time": "2024-07-18T09:01:22.837587Z"
    }
   },
   "cell_type": "code",
   "source": [
    "TICKER = '^GSPC'\n",
    "START_DATE = '2000-01-01'\n",
    "END_DATE = '2024-07-18'\n",
    "\n",
    "data = yf.download(\n",
    "    TICKER,\n",
    "    start = START_DATE,\n",
    "    end = END_DATE,\n",
    "    interval = '1d',\n",
    "    progress = False\n",
    ")"
   ],
   "id": "b5aaf88468417b30",
   "outputs": [],
   "execution_count": 3
  },
  {
   "metadata": {
    "ExecuteTime": {
     "end_time": "2024-07-18T09:01:24.251335Z",
     "start_time": "2024-07-18T09:01:24.239170Z"
    }
   },
   "cell_type": "code",
   "source": "prices = data['Close'].resample('W').last().pct_change().dropna().values",
   "id": "b7832c49fd8b7033",
   "outputs": [],
   "execution_count": 4
  },
  {
   "metadata": {
    "ExecuteTime": {
     "end_time": "2024-07-18T09:01:24.254165Z",
     "start_time": "2024-07-18T09:01:24.251335Z"
    }
   },
   "cell_type": "code",
   "source": "prices = torch.tensor(prices, dtype=torch.float32).unsqueeze(1)  # Shape (N, 1)",
   "id": "34d8709085933445",
   "outputs": [],
   "execution_count": 5
  },
  {
   "metadata": {
    "ExecuteTime": {
     "end_time": "2024-07-18T09:01:24.261761Z",
     "start_time": "2024-07-18T09:01:24.255164Z"
    }
   },
   "cell_type": "code",
   "source": [
    "sequence_length = 30\n",
    "sequences = []\n",
    "targets = []\n",
    "for i in range(len(prices) - sequence_length):\n",
    "    sequences.append(prices[i:i + sequence_length])\n",
    "    targets.append(prices[i + sequence_length])\n",
    "\n",
    "sequences = torch.stack(sequences)\n",
    "targets = torch.stack(targets)"
   ],
   "id": "ed7f6272955ac51f",
   "outputs": [],
   "execution_count": 6
  },
  {
   "metadata": {},
   "cell_type": "markdown",
   "source": "train-test split",
   "id": "7fe89b26fe089420"
  },
  {
   "metadata": {
    "ExecuteTime": {
     "end_time": "2024-07-18T09:01:24.451854Z",
     "start_time": "2024-07-18T09:01:24.448780Z"
    }
   },
   "cell_type": "code",
   "source": [
    "train_size = int(len(sequences) * 0.8)\n",
    "train_sequences = sequences[:train_size]\n",
    "train_targets = targets[:train_size]\n",
    "test_sequences = sequences[train_size:]\n",
    "test_targets = targets[train_size:]"
   ],
   "id": "a5ce01dc276e5e84",
   "outputs": [],
   "execution_count": 7
  },
  {
   "metadata": {
    "ExecuteTime": {
     "end_time": "2024-07-18T09:01:25.326747Z",
     "start_time": "2024-07-18T09:01:24.711805Z"
    }
   },
   "cell_type": "code",
   "source": [
    "input_size = 1\n",
    "hidden_size = 20\n",
    "num_layers = 1\n",
    "model = AlphaRNN(input_size, hidden_size, num_layers)\n",
    "criterion = nn.MSELoss()\n",
    "optimizer = torch.optim.Adam(model.parameters(), lr = 0.001)"
   ],
   "id": "afb6044eb235db69",
   "outputs": [],
   "execution_count": 8
  },
  {
   "metadata": {
    "ExecuteTime": {
     "end_time": "2024-07-18T09:01:26.084070Z",
     "start_time": "2024-07-18T09:01:25.327745Z"
    }
   },
   "cell_type": "code",
   "source": [
    "NUM_EPOCHS = 50\n",
    "\n",
    "for epoch in range(NUM_EPOCHS):\n",
    "    model.train()\n",
    "    optimizer.zero_grad()\n",
    "    output, hidden = model(train_sequences)\n",
    "    loss = criterion(output[:, -1, -1].reshape(-1), train_targets.reshape(-1))\n",
    "    loss.backward()\n",
    "    optimizer.step()\n",
    "    if epoch % 10 == 0:\n",
    "        print(f'Epoch {epoch+1}/{NUM_EPOCHS}, Loss: {loss.item()}')"
   ],
   "id": "1f7bb12dd9ea4c1b",
   "outputs": [
    {
     "name": "stdout",
     "output_type": "stream",
     "text": [
      "Epoch 1/50, Loss: 0.000551921664737165\n",
      "Epoch 11/50, Loss: 0.0005602875608019531\n",
      "Epoch 21/50, Loss: 0.0005491404444910586\n",
      "Epoch 31/50, Loss: 0.0005480207619257271\n",
      "Epoch 41/50, Loss: 0.0005475439829751849\n"
     ]
    }
   ],
   "execution_count": 9
  },
  {
   "metadata": {
    "ExecuteTime": {
     "end_time": "2024-07-18T09:01:26.090864Z",
     "start_time": "2024-07-18T09:01:26.085070Z"
    }
   },
   "cell_type": "code",
   "source": [
    "model.eval()\n",
    "with torch.no_grad():\n",
    "    test_output, _ = model(test_sequences)\n",
    "    test_predictions = test_output[:, -1, -1].reshape(-1)"
   ],
   "id": "4ff919cdcedc47ae",
   "outputs": [],
   "execution_count": 10
  },
  {
   "metadata": {
    "jupyter": {
     "is_executing": true
    },
    "ExecuteTime": {
     "start_time": "2024-07-18T09:01:47.935586Z"
    }
   },
   "cell_type": "code",
   "source": [
    "pd.Series(\n",
    "    test_predictions.numpy(),\n",
    ").plot()"
   ],
   "id": "655008f5830369c4",
   "outputs": [],
   "execution_count": null
  },
  {
   "metadata": {},
   "cell_type": "code",
   "outputs": [],
   "execution_count": null,
   "source": "",
   "id": "a79dd379a7858d11"
  }
 ],
 "metadata": {
  "kernelspec": {
   "display_name": "Python 3",
   "language": "python",
   "name": "python3"
  },
  "language_info": {
   "codemirror_mode": {
    "name": "ipython",
    "version": 2
   },
   "file_extension": ".py",
   "mimetype": "text/x-python",
   "name": "python",
   "nbconvert_exporter": "python",
   "pygments_lexer": "ipython2",
   "version": "2.7.6"
  }
 },
 "nbformat": 4,
 "nbformat_minor": 5
}
